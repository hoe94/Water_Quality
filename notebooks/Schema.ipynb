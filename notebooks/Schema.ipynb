{
 "metadata": {
  "language_info": {
   "codemirror_mode": {
    "name": "ipython",
    "version": 3
   },
   "file_extension": ".py",
   "mimetype": "text/x-python",
   "name": "python",
   "nbconvert_exporter": "python",
   "pygments_lexer": "ipython3",
   "version": "3.8.5"
  },
  "orig_nbformat": 4,
  "kernelspec": {
   "name": "python3",
   "display_name": "Python 3.8.5 64-bit ('base': conda)"
  },
  "interpreter": {
   "hash": "0e6916d9ab44da15ed0443a77e7498c433f1021c4b5177f595b0f0c174f75bc5"
  }
 },
 "nbformat": 4,
 "nbformat_minor": 2,
 "cells": [
  {
   "cell_type": "code",
   "execution_count": 7,
   "metadata": {},
   "outputs": [],
   "source": [
    "import pandas as pd\n",
    "import json"
   ]
  },
  {
   "cell_type": "code",
   "execution_count": 14,
   "metadata": {},
   "outputs": [],
   "source": [
    " pd.options.display.float_format = \"{:.2f}\".format"
   ]
  },
  {
   "cell_type": "code",
   "execution_count": 2,
   "metadata": {},
   "outputs": [],
   "source": [
    "data = pd.read_csv('../data/raw/water_potability.csv')"
   ]
  },
  {
   "cell_type": "code",
   "execution_count": 15,
   "metadata": {},
   "outputs": [
    {
     "output_type": "execute_result",
     "data": {
      "text/plain": [
       "           ph  Hardness   Solids  Chloramines  Sulfate  Conductivity  \\\n",
       "count 2785.00   3276.00  3276.00      3276.00  2495.00       3276.00   \n",
       "mean     7.08    196.37 22014.09         7.12   333.78        426.21   \n",
       "std      1.59     32.88  8768.57         1.58    41.42         80.82   \n",
       "min      0.00     47.43   320.94         0.35   129.00        181.48   \n",
       "25%      6.09    176.85 15666.69         6.13   307.70        365.73   \n",
       "50%      7.04    196.97 20927.83         7.13   333.07        421.88   \n",
       "75%      8.06    216.67 27332.76         8.11   359.95        481.79   \n",
       "max     14.00    323.12 61227.20        13.13   481.03        753.34   \n",
       "\n",
       "       Organic_carbon  Trihalomethanes  Turbidity  Potability  \n",
       "count         3276.00          3114.00    3276.00     3276.00  \n",
       "mean            14.28            66.40       3.97        0.39  \n",
       "std              3.31            16.18       0.78        0.49  \n",
       "min              2.20             0.74       1.45        0.00  \n",
       "25%             12.07            55.84       3.44        0.00  \n",
       "50%             14.22            66.62       3.96        0.00  \n",
       "75%             16.56            77.34       4.50        1.00  \n",
       "max             28.30           124.00       6.74        1.00  "
      ],
      "text/html": "<div>\n<style scoped>\n    .dataframe tbody tr th:only-of-type {\n        vertical-align: middle;\n    }\n\n    .dataframe tbody tr th {\n        vertical-align: top;\n    }\n\n    .dataframe thead th {\n        text-align: right;\n    }\n</style>\n<table border=\"1\" class=\"dataframe\">\n  <thead>\n    <tr style=\"text-align: right;\">\n      <th></th>\n      <th>ph</th>\n      <th>Hardness</th>\n      <th>Solids</th>\n      <th>Chloramines</th>\n      <th>Sulfate</th>\n      <th>Conductivity</th>\n      <th>Organic_carbon</th>\n      <th>Trihalomethanes</th>\n      <th>Turbidity</th>\n      <th>Potability</th>\n    </tr>\n  </thead>\n  <tbody>\n    <tr>\n      <th>count</th>\n      <td>2785.00</td>\n      <td>3276.00</td>\n      <td>3276.00</td>\n      <td>3276.00</td>\n      <td>2495.00</td>\n      <td>3276.00</td>\n      <td>3276.00</td>\n      <td>3114.00</td>\n      <td>3276.00</td>\n      <td>3276.00</td>\n    </tr>\n    <tr>\n      <th>mean</th>\n      <td>7.08</td>\n      <td>196.37</td>\n      <td>22014.09</td>\n      <td>7.12</td>\n      <td>333.78</td>\n      <td>426.21</td>\n      <td>14.28</td>\n      <td>66.40</td>\n      <td>3.97</td>\n      <td>0.39</td>\n    </tr>\n    <tr>\n      <th>std</th>\n      <td>1.59</td>\n      <td>32.88</td>\n      <td>8768.57</td>\n      <td>1.58</td>\n      <td>41.42</td>\n      <td>80.82</td>\n      <td>3.31</td>\n      <td>16.18</td>\n      <td>0.78</td>\n      <td>0.49</td>\n    </tr>\n    <tr>\n      <th>min</th>\n      <td>0.00</td>\n      <td>47.43</td>\n      <td>320.94</td>\n      <td>0.35</td>\n      <td>129.00</td>\n      <td>181.48</td>\n      <td>2.20</td>\n      <td>0.74</td>\n      <td>1.45</td>\n      <td>0.00</td>\n    </tr>\n    <tr>\n      <th>25%</th>\n      <td>6.09</td>\n      <td>176.85</td>\n      <td>15666.69</td>\n      <td>6.13</td>\n      <td>307.70</td>\n      <td>365.73</td>\n      <td>12.07</td>\n      <td>55.84</td>\n      <td>3.44</td>\n      <td>0.00</td>\n    </tr>\n    <tr>\n      <th>50%</th>\n      <td>7.04</td>\n      <td>196.97</td>\n      <td>20927.83</td>\n      <td>7.13</td>\n      <td>333.07</td>\n      <td>421.88</td>\n      <td>14.22</td>\n      <td>66.62</td>\n      <td>3.96</td>\n      <td>0.00</td>\n    </tr>\n    <tr>\n      <th>75%</th>\n      <td>8.06</td>\n      <td>216.67</td>\n      <td>27332.76</td>\n      <td>8.11</td>\n      <td>359.95</td>\n      <td>481.79</td>\n      <td>16.56</td>\n      <td>77.34</td>\n      <td>4.50</td>\n      <td>1.00</td>\n    </tr>\n    <tr>\n      <th>max</th>\n      <td>14.00</td>\n      <td>323.12</td>\n      <td>61227.20</td>\n      <td>13.13</td>\n      <td>481.03</td>\n      <td>753.34</td>\n      <td>28.30</td>\n      <td>124.00</td>\n      <td>6.74</td>\n      <td>1.00</td>\n    </tr>\n  </tbody>\n</table>\n</div>"
     },
     "metadata": {},
     "execution_count": 15
    }
   ],
   "source": [
    "data.describe()"
   ]
  },
  {
   "cell_type": "code",
   "execution_count": 17,
   "metadata": {},
   "outputs": [
    {
     "output_type": "execute_result",
     "data": {
      "text/plain": [
       "                  count     mean     std    min      25%      50%      75%  \\\n",
       "ph              2785.00     7.08    1.59   0.00     6.09     7.04     8.06   \n",
       "Hardness        3276.00   196.37   32.88  47.43   176.85   196.97   216.67   \n",
       "Solids          3276.00 22014.09 8768.57 320.94 15666.69 20927.83 27332.76   \n",
       "Chloramines     3276.00     7.12    1.58   0.35     6.13     7.13     8.11   \n",
       "Sulfate         2495.00   333.78   41.42 129.00   307.70   333.07   359.95   \n",
       "Conductivity    3276.00   426.21   80.82 181.48   365.73   421.88   481.79   \n",
       "Organic_carbon  3276.00    14.28    3.31   2.20    12.07    14.22    16.56   \n",
       "Trihalomethanes 3114.00    66.40   16.18   0.74    55.84    66.62    77.34   \n",
       "Turbidity       3276.00     3.97    0.78   1.45     3.44     3.96     4.50   \n",
       "Potability      3276.00     0.39    0.49   0.00     0.00     0.00     1.00   \n",
       "\n",
       "                     max  \n",
       "ph                 14.00  \n",
       "Hardness          323.12  \n",
       "Solids          61227.20  \n",
       "Chloramines        13.13  \n",
       "Sulfate           481.03  \n",
       "Conductivity      753.34  \n",
       "Organic_carbon     28.30  \n",
       "Trihalomethanes   124.00  \n",
       "Turbidity           6.74  \n",
       "Potability          1.00  "
      ],
      "text/html": "<div>\n<style scoped>\n    .dataframe tbody tr th:only-of-type {\n        vertical-align: middle;\n    }\n\n    .dataframe tbody tr th {\n        vertical-align: top;\n    }\n\n    .dataframe thead th {\n        text-align: right;\n    }\n</style>\n<table border=\"1\" class=\"dataframe\">\n  <thead>\n    <tr style=\"text-align: right;\">\n      <th></th>\n      <th>count</th>\n      <th>mean</th>\n      <th>std</th>\n      <th>min</th>\n      <th>25%</th>\n      <th>50%</th>\n      <th>75%</th>\n      <th>max</th>\n    </tr>\n  </thead>\n  <tbody>\n    <tr>\n      <th>ph</th>\n      <td>2785.00</td>\n      <td>7.08</td>\n      <td>1.59</td>\n      <td>0.00</td>\n      <td>6.09</td>\n      <td>7.04</td>\n      <td>8.06</td>\n      <td>14.00</td>\n    </tr>\n    <tr>\n      <th>Hardness</th>\n      <td>3276.00</td>\n      <td>196.37</td>\n      <td>32.88</td>\n      <td>47.43</td>\n      <td>176.85</td>\n      <td>196.97</td>\n      <td>216.67</td>\n      <td>323.12</td>\n    </tr>\n    <tr>\n      <th>Solids</th>\n      <td>3276.00</td>\n      <td>22014.09</td>\n      <td>8768.57</td>\n      <td>320.94</td>\n      <td>15666.69</td>\n      <td>20927.83</td>\n      <td>27332.76</td>\n      <td>61227.20</td>\n    </tr>\n    <tr>\n      <th>Chloramines</th>\n      <td>3276.00</td>\n      <td>7.12</td>\n      <td>1.58</td>\n      <td>0.35</td>\n      <td>6.13</td>\n      <td>7.13</td>\n      <td>8.11</td>\n      <td>13.13</td>\n    </tr>\n    <tr>\n      <th>Sulfate</th>\n      <td>2495.00</td>\n      <td>333.78</td>\n      <td>41.42</td>\n      <td>129.00</td>\n      <td>307.70</td>\n      <td>333.07</td>\n      <td>359.95</td>\n      <td>481.03</td>\n    </tr>\n    <tr>\n      <th>Conductivity</th>\n      <td>3276.00</td>\n      <td>426.21</td>\n      <td>80.82</td>\n      <td>181.48</td>\n      <td>365.73</td>\n      <td>421.88</td>\n      <td>481.79</td>\n      <td>753.34</td>\n    </tr>\n    <tr>\n      <th>Organic_carbon</th>\n      <td>3276.00</td>\n      <td>14.28</td>\n      <td>3.31</td>\n      <td>2.20</td>\n      <td>12.07</td>\n      <td>14.22</td>\n      <td>16.56</td>\n      <td>28.30</td>\n    </tr>\n    <tr>\n      <th>Trihalomethanes</th>\n      <td>3114.00</td>\n      <td>66.40</td>\n      <td>16.18</td>\n      <td>0.74</td>\n      <td>55.84</td>\n      <td>66.62</td>\n      <td>77.34</td>\n      <td>124.00</td>\n    </tr>\n    <tr>\n      <th>Turbidity</th>\n      <td>3276.00</td>\n      <td>3.97</td>\n      <td>0.78</td>\n      <td>1.45</td>\n      <td>3.44</td>\n      <td>3.96</td>\n      <td>4.50</td>\n      <td>6.74</td>\n    </tr>\n    <tr>\n      <th>Potability</th>\n      <td>3276.00</td>\n      <td>0.39</td>\n      <td>0.49</td>\n      <td>0.00</td>\n      <td>0.00</td>\n      <td>0.00</td>\n      <td>1.00</td>\n      <td>1.00</td>\n    </tr>\n  </tbody>\n</table>\n</div>"
     },
     "metadata": {},
     "execution_count": 17
    }
   ],
   "source": [
    "data.describe().T"
   ]
  },
  {
   "cell_type": "code",
   "execution_count": 16,
   "metadata": {},
   "outputs": [
    {
     "output_type": "execute_result",
     "data": {
      "text/plain": [
       "{'ph': {'min': 0.0, 'max': 13.999999999999998},\n",
       " 'Hardness': {'min': 47.431999999999995, 'max': 323.124},\n",
       " 'Solids': {'min': 320.942611274359, 'max': 61227.196007712126},\n",
       " 'Chloramines': {'min': 0.3520000000000003, 'max': 13.127000000000002},\n",
       " 'Sulfate': {'min': 129.00000000000003, 'max': 481.03064230599716},\n",
       " 'Conductivity': {'min': 181.483753985146, 'max': 753.3426195583046},\n",
       " 'Organic_carbon': {'min': 2.1999999999999886, 'max': 28.300000000000008},\n",
       " 'Trihalomethanes': {'min': 0.7379999999999995, 'max': 124.0},\n",
       " 'Turbidity': {'min': 1.45, 'max': 6.739},\n",
       " 'Potability': {'min': 0.0, 'max': 1.0}}"
      ]
     },
     "metadata": {},
     "execution_count": 16
    }
   ],
   "source": [
    "data.describe().loc[['min','max']].to_dict()"
   ]
  },
  {
   "cell_type": "code",
   "execution_count": 13,
   "metadata": {},
   "outputs": [],
   "source": [
    "schema = data.describe().loc[['min','max']].to_dict()\n",
    "with open('../schema.json', 'w')as file:\n",
    "    json.dump(schema, file, indent = 4)"
   ]
  }
 ]
}